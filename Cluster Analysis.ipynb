{
 "cells": [
  {
   "cell_type": "code",
   "execution_count": 2,
   "id": "3b281b42",
   "metadata": {},
   "outputs": [],
   "source": [
    "import pandas as pd"
   ]
  },
  {
   "cell_type": "code",
   "execution_count": 3,
   "id": "4d76d565",
   "metadata": {},
   "outputs": [],
   "source": [
    "df=pd.read_csv('products.csv')"
   ]
  },
  {
   "cell_type": "code",
   "execution_count": 4,
   "id": "dd80226d",
   "metadata": {},
   "outputs": [
    {
     "data": {
      "text/html": [
       "<div>\n",
       "<style scoped>\n",
       "    .dataframe tbody tr th:only-of-type {\n",
       "        vertical-align: middle;\n",
       "    }\n",
       "\n",
       "    .dataframe tbody tr th {\n",
       "        vertical-align: top;\n",
       "    }\n",
       "\n",
       "    .dataframe thead th {\n",
       "        text-align: right;\n",
       "    }\n",
       "</style>\n",
       "<table border=\"1\" class=\"dataframe\">\n",
       "  <thead>\n",
       "    <tr style=\"text-align: right;\">\n",
       "      <th></th>\n",
       "      <th>name</th>\n",
       "      <th>category</th>\n",
       "      <th>description</th>\n",
       "      <th>price</th>\n",
       "      <th>stock_level</th>\n",
       "    </tr>\n",
       "  </thead>\n",
       "  <tbody>\n",
       "    <tr>\n",
       "      <th>0</th>\n",
       "      <td>drug</td>\n",
       "      <td>Food</td>\n",
       "      <td>Agent shake than under.\\nPay rest society summ...</td>\n",
       "      <td>22.48</td>\n",
       "      <td>57</td>\n",
       "    </tr>\n",
       "    <tr>\n",
       "      <th>1</th>\n",
       "      <td>art</td>\n",
       "      <td>Beauty</td>\n",
       "      <td>Address local her race network wish gun. Guess...</td>\n",
       "      <td>89.66</td>\n",
       "      <td>68</td>\n",
       "    </tr>\n",
       "    <tr>\n",
       "      <th>2</th>\n",
       "      <td>rate</td>\n",
       "      <td>Food</td>\n",
       "      <td>Property we seven raise. Break pull foot. Imag...</td>\n",
       "      <td>48.21</td>\n",
       "      <td>93</td>\n",
       "    </tr>\n",
       "    <tr>\n",
       "      <th>3</th>\n",
       "      <td>sister</td>\n",
       "      <td>Clothing</td>\n",
       "      <td>City dinner none short. Record decade politics...</td>\n",
       "      <td>36.25</td>\n",
       "      <td>60</td>\n",
       "    </tr>\n",
       "    <tr>\n",
       "      <th>4</th>\n",
       "      <td>drop</td>\n",
       "      <td>Electronics</td>\n",
       "      <td>Middle year dark whether. Back low able film l...</td>\n",
       "      <td>33.08</td>\n",
       "      <td>93</td>\n",
       "    </tr>\n",
       "  </tbody>\n",
       "</table>\n",
       "</div>"
      ],
      "text/plain": [
       "     name     category                                        description  \\\n",
       "0    drug         Food  Agent shake than under.\\nPay rest society summ...   \n",
       "1     art       Beauty  Address local her race network wish gun. Guess...   \n",
       "2    rate         Food  Property we seven raise. Break pull foot. Imag...   \n",
       "3  sister     Clothing  City dinner none short. Record decade politics...   \n",
       "4    drop  Electronics  Middle year dark whether. Back low able film l...   \n",
       "\n",
       "   price  stock_level  \n",
       "0  22.48           57  \n",
       "1  89.66           68  \n",
       "2  48.21           93  \n",
       "3  36.25           60  \n",
       "4  33.08           93  "
      ]
     },
     "execution_count": 4,
     "metadata": {},
     "output_type": "execute_result"
    }
   ],
   "source": [
    "df.head()"
   ]
  },
  {
   "cell_type": "code",
   "execution_count": 5,
   "id": "fa69c1ac",
   "metadata": {},
   "outputs": [
    {
     "data": {
      "text/html": [
       "<div>\n",
       "<style scoped>\n",
       "    .dataframe tbody tr th:only-of-type {\n",
       "        vertical-align: middle;\n",
       "    }\n",
       "\n",
       "    .dataframe tbody tr th {\n",
       "        vertical-align: top;\n",
       "    }\n",
       "\n",
       "    .dataframe thead th {\n",
       "        text-align: right;\n",
       "    }\n",
       "</style>\n",
       "<table border=\"1\" class=\"dataframe\">\n",
       "  <thead>\n",
       "    <tr style=\"text-align: right;\">\n",
       "      <th></th>\n",
       "      <th>price</th>\n",
       "      <th>stock_level</th>\n",
       "    </tr>\n",
       "  </thead>\n",
       "  <tbody>\n",
       "    <tr>\n",
       "      <th>count</th>\n",
       "      <td>2001.000000</td>\n",
       "      <td>2001.000000</td>\n",
       "    </tr>\n",
       "    <tr>\n",
       "      <th>mean</th>\n",
       "      <td>50.590265</td>\n",
       "      <td>48.212894</td>\n",
       "    </tr>\n",
       "    <tr>\n",
       "      <th>std</th>\n",
       "      <td>28.161108</td>\n",
       "      <td>29.336166</td>\n",
       "    </tr>\n",
       "    <tr>\n",
       "      <th>min</th>\n",
       "      <td>1.220000</td>\n",
       "      <td>0.000000</td>\n",
       "    </tr>\n",
       "    <tr>\n",
       "      <th>25%</th>\n",
       "      <td>26.680000</td>\n",
       "      <td>23.000000</td>\n",
       "    </tr>\n",
       "    <tr>\n",
       "      <th>50%</th>\n",
       "      <td>50.750000</td>\n",
       "      <td>47.000000</td>\n",
       "    </tr>\n",
       "    <tr>\n",
       "      <th>75%</th>\n",
       "      <td>75.100000</td>\n",
       "      <td>73.000000</td>\n",
       "    </tr>\n",
       "    <tr>\n",
       "      <th>max</th>\n",
       "      <td>99.960000</td>\n",
       "      <td>100.000000</td>\n",
       "    </tr>\n",
       "  </tbody>\n",
       "</table>\n",
       "</div>"
      ],
      "text/plain": [
       "             price  stock_level\n",
       "count  2001.000000  2001.000000\n",
       "mean     50.590265    48.212894\n",
       "std      28.161108    29.336166\n",
       "min       1.220000     0.000000\n",
       "25%      26.680000    23.000000\n",
       "50%      50.750000    47.000000\n",
       "75%      75.100000    73.000000\n",
       "max      99.960000   100.000000"
      ]
     },
     "execution_count": 5,
     "metadata": {},
     "output_type": "execute_result"
    }
   ],
   "source": [
    "df.describe()"
   ]
  },
  {
   "cell_type": "code",
   "execution_count": 6,
   "id": "d6342526",
   "metadata": {},
   "outputs": [
    {
     "data": {
      "text/plain": [
       "name           0\n",
       "category       0\n",
       "description    0\n",
       "price          0\n",
       "stock_level    0\n",
       "dtype: int64"
      ]
     },
     "execution_count": 6,
     "metadata": {},
     "output_type": "execute_result"
    }
   ],
   "source": [
    "df.isnull().sum()"
   ]
  },
  {
   "cell_type": "code",
   "execution_count": 7,
   "id": "bb8f0f53",
   "metadata": {},
   "outputs": [
    {
     "data": {
      "image/png": "[encoded data removed]",
      "text/plain": [
       "<Figure size 432x288 with 1 Axes>"
      ]
     },
     "metadata": {
      "needs_background": "light"
     },
     "output_type": "display_data"
    }
   ],
   "source": [
    "import matplotlib.pyplot as plt\n",
    "\n",
    "# Create a histogram of prices\n",
    "plt.hist(df['price'], bins=20)\n",
    "plt.xlabel('Price')\n",
    "plt.ylabel('Frequency')\n",
    "plt.title('Distribution of Prices')\n",
    "plt.show()\n"
   ]
  },
  {
   "cell_type": "code",
   "execution_count": 2,
   "id": "b98a39c7",
   "metadata": {},
   "outputs": [
    {
     "name": "stdout",
     "output_type": "stream",
     "text": [
      "Cluster 0:\n",
      "           name  category                                        description\n",
      "3        sister  Clothing  City dinner none short. Record decade politics...\n",
      "12        young  Clothing  Seat watch personal current. At gun result con...\n",
      "14       relate  Clothing  Near near such shoulder. Another miss lawyer i...\n",
      "19         site  Clothing  Once yet hold here.\\nEnjoy fish factor few go....\n",
      "22       modern  Clothing  Feel policy three treat.\\nEducation this arm p...\n",
      "...         ...       ...                                                ...\n",
      "1987       name  Clothing  Again then exactly group situation. Memory res...\n",
      "1993  attention  Clothing  Add player ready water also. Probably possible...\n",
      "1994  according  Clothing  Body set case thus degree.\\nSame blue here con...\n",
      "1997        she  Clothing  Page need any well quality maintain produce. G...\n",
      "1999     create  Clothing  Tv smile box them anything point up stay. My f...\n",
      "\n",
      "[502 rows x 3 columns]\n",
      "---\n",
      "Cluster 1:\n",
      "         name category                                        description\n",
      "1         art   Beauty  Address local her race network wish gun. Guess...\n",
      "5     perhaps   Beauty  Standard start outside tree. Officer claim cus...\n",
      "11      group   Beauty  Sell range company military indeed. Course ver...\n",
      "24      heart   Beauty  You onto time responsibility surface page. Tru...\n",
      "25        car   Beauty  Despite nature much. Information culture full ...\n",
      "...       ...      ...                                                ...\n",
      "1975      law   Beauty  Become add explain. Chair else down tell someb...\n",
      "1980    house   Beauty  Seek beautiful too world old development preve...\n",
      "1991  program   Beauty  Energy magazine behavior finally. Way ok blood...\n",
      "1995     loss   Beauty  Certainly all season seven.\\nRate season ten t...\n",
      "1996     book   Beauty  Remain executive well age suggest popular it b...\n",
      "\n",
      "[511 rows x 3 columns]\n",
      "---\n",
      "Cluster 2:\n",
      "         name     category                                        description\n",
      "4        drop  Electronics  Middle year dark whether. Back low able film l...\n",
      "6     manager  Electronics  Cell power ability sing friend become still ho...\n",
      "7     prevent  Electronics  Enter us be mother.\\nHeavy consumer book ask a...\n",
      "8     brother  Electronics  Event available station represent capital. Som...\n",
      "9     meeting  Electronics  Have put father responsibility identify experi...\n",
      "...       ...          ...                                                ...\n",
      "1986     pass  Electronics  Agreement measure talk particularly no. Wife f...\n",
      "1988   summer  Electronics  Teacher leg nation. Alone itself land billion ...\n",
      "1989      ago  Electronics  Road own within eye discover. Financial show d...\n",
      "1990      out  Electronics  Expect north threat. Risk require morning even...\n",
      "1998      art  Electronics  You structure although huge central during. Cl...\n",
      "\n",
      "[503 rows x 3 columns]\n",
      "---\n",
      "Cluster 3:\n",
      "             name category                                        description\n",
      "0            drug     Food  Agent shake than under.\\nPay rest society summ...\n",
      "2            rate     Food  Property we seven raise. Break pull foot. Imag...\n",
      "15      community     Food  Production rich enter bed dream stop media the...\n",
      "16    traditional     Food  Study phone make central believe public. Later...\n",
      "17           seat     Food  Garden at each join court low address. Buildin...\n",
      "...           ...      ...                                                ...\n",
      "1976    newspaper     Food  Why worker training opportunity. Property seem...\n",
      "1982        voice     Food  Explain truth billion old should close into. M...\n",
      "1983         fear     Food  Feeling appear brother wear old find candidate...\n",
      "1985     discover     Food  Teach they standard less thought.\\nApproach se...\n",
      "1992      prepare     Food  Anyone peace with discussion then. Listen deal...\n",
      "\n",
      "[484 rows x 3 columns]\n",
      "---\n",
      "Cluster 4:\n",
      "           name    category    description\n",
      "2000  Product A  Category A  Description A\n",
      "---\n"
     ]
    }
   ],
   "source": [
    "import pandas as pd\n",
    "from sklearn.cluster import KMeans\n",
    "from sklearn.feature_extraction.text import TfidfVectorizer\n",
    "\n",
    "# Load the data into a pandas DataFrame\n",
    "data = pd.read_csv('products.csv')\n",
    "\n",
    "# Extract the 'description' column for text-based clustering\n",
    "category = data['category']\n",
    "\n",
    "# Vectorize the text data using TF-IDF\n",
    "vectorizer = TfidfVectorizer()\n",
    "X = vectorizer.fit_transform(category)\n",
    "\n",
    "# Perform k-means clustering\n",
    "kmeans = KMeans(n_clusters=5, random_state=42)  # You can choose the number of clusters you want to form\n",
    "kmeans.fit(X)\n",
    "\n",
    "# Assign cluster labels to each data point\n",
    "data['cluster_label'] = kmeans.labels_\n",
    "\n",
    "# Print the resulting clusters\n",
    "for cluster_label in range(kmeans.n_clusters):\n",
    "    print(f'Cluster {cluster_label}:')\n",
    "    cluster_data = data[data['cluster_label'] == cluster_label]\n",
    "    print(cluster_data[['name', 'category', 'description']])\n",
    "    print('---')\n"
   ]
  },
  {
   "cell_type": "code",
   "execution_count": 8,
   "id": "8aad1064",
   "metadata": {},
   "outputs": [
    {
     "name": "stdout",
     "output_type": "stream",
     "text": [
      "           name     category  price  cluster\n",
      "0          drug         Food  22.48        1\n",
      "1           art       Beauty  89.66        0\n",
      "2          rate         Food  48.21        2\n",
      "3        sister     Clothing  36.25        2\n",
      "4          drop  Electronics  33.08        1\n",
      "...         ...          ...    ...      ...\n",
      "1996       book       Beauty  91.51        0\n",
      "1997        she     Clothing  61.04        2\n",
      "1998        art  Electronics  98.80        0\n",
      "1999     create     Clothing  55.78        2\n",
      "2000  Product A   Category A   9.99        1\n",
      "\n",
      "[2001 rows x 4 columns]\n"
     ]
    },
    {
     "name": "stderr",
     "output_type": "stream",
     "text": [
      "C:\\Users\\Sai Megana\\AppData\\Local\\Temp\\ipykernel_10972\\1176780081.py:11: SettingWithCopyWarning: \n",
      "A value is trying to be set on a copy of a slice from a DataFrame.\n",
      "Try using .loc[row_indexer,col_indexer] = value instead\n",
      "\n",
      "See the caveats in the documentation: https://pandas.pydata.org/pandas-docs/stable/user_guide/indexing.html#returning-a-view-versus-a-copy\n",
      "  X['category'] = pd.factorize(X['category'])[0]\n"
     ]
    }
   ],
   "source": [
    "import pandas as pd\n",
    "from sklearn.cluster import KMeans\n",
    "\n",
    "# Load data from .csv file\n",
    "df = pd.read_csv('products.csv')\n",
    "\n",
    "# Extract relevant columns for clustering\n",
    "X = df[['category', 'price']]\n",
    "\n",
    "# Convert categorical column to numerical using label encoding\n",
    "X['category'] = pd.factorize(X['category'])[0]\n",
    "\n",
    "# Perform k-means clustering\n",
    "kmeans = KMeans(n_clusters=3)  # specify the number of clusters\n",
    "kmeans.fit(X)\n",
    "\n",
    "# Add cluster labels as a new column in the dataframe\n",
    "df['cluster'] = kmeans.labels_\n",
    "\n",
    "# Print cluster assignments\n",
    "print(df[['name', 'category', 'price', 'cluster']])\n"
   ]
  },
  {
   "cell_type": "code",
   "execution_count": 10,
   "id": "60ed94e2",
   "metadata": {},
   "outputs": [
    {
     "name": "stderr",
     "output_type": "stream",
     "text": [
      "C:\\Users\\Sai Megana\\AppData\\Local\\Temp\\ipykernel_10972\\1822770796.py:12: SettingWithCopyWarning: \n",
      "A value is trying to be set on a copy of a slice from a DataFrame.\n",
      "Try using .loc[row_indexer,col_indexer] = value instead\n",
      "\n",
      "See the caveats in the documentation: https://pandas.pydata.org/pandas-docs/stable/user_guide/indexing.html#returning-a-view-versus-a-copy\n",
      "  X['category'] = pd.factorize(X['category'])[0]\n"
     ]
    },
    {
     "data": {
      "image/png": "[encoded data removed]",
      "text/plain": [
       "<Figure size 576x432 with 1 Axes>"
      ]
     },
     "metadata": {
      "needs_background": "light"
     },
     "output_type": "display_data"
    }
   ],
   "source": [
    "import pandas as pd\n",
    "from sklearn.cluster import KMeans\n",
    "import matplotlib.pyplot as plt\n",
    "\n",
    "# Load data from .csv file\n",
    "df = pd.read_csv('products.csv')\n",
    "\n",
    "# Extract relevant columns for clustering\n",
    "X = df[['category', 'price']]\n",
    "\n",
    "# Convert categorical column to numerical using label encoding\n",
    "X['category'] = pd.factorize(X['category'])[0]\n",
    "\n",
    "# Perform k-means clustering\n",
    "kmeans = KMeans(n_clusters=3)  # specify the number of clusters\n",
    "kmeans.fit(X)\n",
    "\n",
    "# Add cluster labels as a new column in the dataframe\n",
    "df['cluster'] = kmeans.labels_\n",
    "\n",
    "# Plot scatter plot with different colors for each cluster\n",
    "plt.figure(figsize=(8, 6))\n",
    "plt.scatter(X['category'], X['price'], c=df['cluster'], cmap='viridis')\n",
    "plt.xlabel('Category')\n",
    "plt.ylabel('Price')\n",
    "plt.title('K-means Clustering of Products')\n",
    "plt.show()\n",
    "\n"
   ]
  },
  {
   "cell_type": "code",
   "execution_count": 13,
   "id": "08f3aba3",
   "metadata": {},
   "outputs": [
    {
     "name": "stderr",
     "output_type": "stream",
     "text": [
      "C:\\Users\\Sai Megana\\AppData\\Local\\Temp\\ipykernel_10972\\4043201044.py:13: SettingWithCopyWarning: \n",
      "A value is trying to be set on a copy of a slice from a DataFrame.\n",
      "Try using .loc[row_indexer,col_indexer] = value instead\n",
      "\n",
      "See the caveats in the documentation: https://pandas.pydata.org/pandas-docs/stable/user_guide/indexing.html#returning-a-view-versus-a-copy\n",
      "  X['category'] = pd.factorize(X['category'])[0]\n"
     ]
    },
    {
     "data": {
      "image/png": "[encoded data removed]",
      "text/plain": [
       "<Figure size 864x432 with 1 Axes>"
      ]
     },
     "metadata": {
      "needs_background": "light"
     },
     "output_type": "display_data"
    }
   ],
   "source": [
    "import pandas as pd\n",
    "import matplotlib.pyplot as plt\n",
    "from scipy.cluster.hierarchy import dendrogram, linkage\n",
    "from sklearn.cluster import KMeans\n",
    "\n",
    "# Load data from .csv file\n",
    "df = pd.read_csv('products.csv')\n",
    "\n",
    "# Extract relevant columns for clustering\n",
    "X = df[['category', 'price']]\n",
    "\n",
    "# Convert categorical column to numerical using label encoding\n",
    "X['category'] = pd.factorize(X['category'])[0]\n",
    "\n",
    "# Perform hierarchical clustering using Ward's method\n",
    "Z = linkage(X, 'ward')\n",
    "\n",
    "# Plot dendrogram\n",
    "plt.figure(figsize=(12, 6))\n",
    "dendrogram(Z, labels=df['name'].tolist(), orientation='top')\n",
    "plt.xlabel('Items')\n",
    "plt.ylabel('Distance')\n",
    "plt.title('Dendrogram of Items')\n",
    "plt.show()\n"
   ]
  },
  {
   "cell_type": "code",
   "execution_count": null,
   "id": "73b8e8dc",
   "metadata": {},
   "outputs": [],
   "source": []
  },
  {
   "cell_type": "code",
   "execution_count": null,
   "id": "6ee33805",
   "metadata": {},
   "outputs": [],
   "source": []
  }
 ],
 "metadata": {
  "kernelspec": {
   "display_name": "Python 3 (ipykernel)",
   "language": "python",
   "name": "python3"
  },
  "language_info": {
   "codemirror_mode": {
    "name": "ipython",
    "version": 3
   },
   "file_extension": ".py",
   "mimetype": "text/x-python",
   "name": "python",
   "nbconvert_exporter": "python",
   "pygments_lexer": "ipython3",
   "version": "3.11.5"
  }
 },
 "nbformat": 4,
 "nbformat_minor": 5
}
